{
 "cells": [
  {
   "cell_type": "code",
   "execution_count": 24,
   "metadata": {},
   "outputs": [],
   "source": [
    "# Resources\n",
    "import numpy as np\n",
    "import sqlite3\n",
    "import pandas as pd\n",
    "\n",
    "# Python SQL toolkit and Object Relational Mapper\n",
    "import sqlalchemy \n",
    "from sqlalchemy.ext.automap import automap_base\n",
    "from sqlalchemy.orm import Session\n",
    "from sqlalchemy import create_engine, func\n",
    "from sqlalchemy import extract\n",
    "from sqlalchemy import select\n",
    "from sqlalchemy.orm import join\n",
    "from sqlalchemy.sql import func\n",
    "from sqlalchemy import or_\n",
    "from sqlalchemy import inspect"
   ]
  },
  {
   "cell_type": "code",
   "execution_count": 25,
   "metadata": {},
   "outputs": [],
   "source": [
    "##################################\n",
    "# Database Setup\n",
    "##################################\n",
    "\n",
    "# https://docs.sqlalchemy.org/en/14/core/engines.html#sqlite\n",
    "# Module 9 Challenge\n",
    "engine = create_engine(r'sqlite:///../../data/LIFE_EXPECTANCY_DB.db')\n",
    "\n",
    "# reflect an existing database into a new model\n",
    "Base = automap_base()\n",
    "# reflect the tables\n",
    "Base.prepare(engine, reflect=True)\n",
    "\n",
    "# Save references to each table\n",
    "Happiness = Base.classes.HAPPINESS_TABLE\n",
    "Expectancy = Base.classes.EXPECTANCY_TABLE"
   ]
  },
  {
   "cell_type": "code",
   "execution_count": 26,
   "metadata": {},
   "outputs": [
    {
     "data": {
      "text/plain": [
       "['EXPECTANCY_TABLE', 'HAPPINESS_TABLE']"
      ]
     },
     "execution_count": 26,
     "metadata": {},
     "output_type": "execute_result"
    }
   ],
   "source": [
    "# Tables in database\n",
    "Base.classes.keys()"
   ]
  },
  {
   "cell_type": "code",
   "execution_count": 27,
   "metadata": {},
   "outputs": [],
   "source": [
    "# Create our session (link) from Python to the DB\n",
    "session = Session(engine)"
   ]
  },
  {
   "cell_type": "code",
   "execution_count": 28,
   "metadata": {},
   "outputs": [],
   "source": [
    "inst = inspect(Expectancy)\n",
    "Expectancy_columns = [c_attr.key for c_attr in inst.mapper.column_attrs]"
   ]
  },
  {
   "cell_type": "code",
   "execution_count": 29,
   "metadata": {},
   "outputs": [
    {
     "name": "stdout",
     "output_type": "stream",
     "text": [
      "['ID', 'COUNTRY', 'YEAR', 'STATUS', 'EXPECTANCY', 'MORTALITY', 'INFANT_DEATH', 'ALCOHOL', 'EXPENDITURE_PERCENT', 'HEPATITUS_B', 'MEASLES', 'BMI', 'UNDER_FIVE_DEATH', 'POLIIO', 'EXPENDITURE_TOTAL', 'DIPHTHERIA', 'HIV_AIDS', 'GDP', 'POPULATION', 'THIN_1TO19_YR', 'THIN_5TO9_YR', 'INC_COMPOSITION', 'SCHOOLING']\n"
     ]
    }
   ],
   "source": [
    "# Columns of EXPECTANCY_TABLE\n",
    "print(Expectancy_columns)"
   ]
  },
  {
   "cell_type": "code",
   "execution_count": 30,
   "metadata": {},
   "outputs": [],
   "source": [
    "inst = inspect(Happiness)\n",
    "Happiness_columns = [c_attr.key for c_attr in inst.mapper.column_attrs]"
   ]
  },
  {
   "cell_type": "code",
   "execution_count": 31,
   "metadata": {},
   "outputs": [
    {
     "name": "stdout",
     "output_type": "stream",
     "text": [
      "['ID', 'COUNTRY', 'REGION', 'HAPPINESS_SCORE', 'HAPPINESS_RANK', 'LOW_CONF', 'HIGH_CONF', 'STANDARD_ERROR', 'ECONOMY', 'FAMILY', 'HEALTH', 'FREEDOM', 'TRUST', 'GENEROSITY', 'DYSTOPIA', 'YEAR']\n"
     ]
    }
   ],
   "source": [
    "# Columns of HAPPINESS_TABLE\n",
    "print(Happiness_columns)"
   ]
  },
  {
   "cell_type": "code",
   "execution_count": 32,
   "metadata": {},
   "outputs": [],
   "source": [
    "expect_results = []\n",
    "\n",
    "# Query contents of EXPECTANCY_TABLE to list\n",
    "expect_results = session.query(\n",
    "    Expectancy.ID,\n",
    "    Expectancy.COUNTRY,\n",
    "    Expectancy.YEAR,\n",
    "    Expectancy.STATUS,\n",
    "    Expectancy.EXPECTANCY,\n",
    "    Expectancy.MORTALITY,\n",
    "    Expectancy.INFANT_DEATH,\n",
    "    Expectancy.ALCOHOL,\n",
    "    Expectancy.EXPENDITURE_PERCENT,\n",
    "    Expectancy.HEPATITUS_B,\n",
    "    Expectancy.MEASLES,\n",
    "    Expectancy.BMI,\n",
    "    Expectancy.UNDER_FIVE_DEATH,\n",
    "    Expectancy.POLIIO,\n",
    "    Expectancy.EXPENDITURE_TOTAL,\n",
    "    Expectancy.DIPHTHERIA,\n",
    "    Expectancy.HIV_AIDS,\n",
    "    Expectancy.GDP,\n",
    "    Expectancy.POPULATION,\n",
    "    Expectancy.THIN_1TO19_YR,\n",
    "    Expectancy.THIN_5TO9_YR,\n",
    "    Expectancy.INC_COMPOSITION,\n",
    "    Expectancy.SCHOOLING\n",
    "    ).all()\n",
    "\n",
    "#for temp_result in expect_results:\n",
    "#    print(temp_result)"
   ]
  },
  {
   "cell_type": "code",
   "execution_count": 33,
   "metadata": {},
   "outputs": [
    {
     "name": "stdout",
     "output_type": "stream",
     "text": [
      "        ID      COUNTRY  YEAR      STATUS EXPECTANCY MORTALITY  INFANT_DEATH  \\\n",
      "0        1  Afghanistan  2015  Developing         65       263          62.0   \n",
      "1        2  Afghanistan  2014  Developing       59.9       271          64.0   \n",
      "2        3  Afghanistan  2013  Developing       59.9       268          66.0   \n",
      "3        4  Afghanistan  2012  Developing       59.5       272          69.0   \n",
      "4        5  Afghanistan  2011  Developing       59.2       275          71.0   \n",
      "...    ...          ...   ...         ...        ...       ...           ...   \n",
      "2933  2934     Zimbabwe  2004  Developing       44.3       723          27.0   \n",
      "2934  2935     Zimbabwe  2003  Developing       44.5       715          26.0   \n",
      "2935  2936     Zimbabwe  2002  Developing       44.8        73          25.0   \n",
      "2936  2937     Zimbabwe  2001  Developing       45.3       686          25.0   \n",
      "2937  2938     Zimbabwe  2000  Developing         46       665          24.0   \n",
      "\n",
      "     ALCOHOL  EXPENDITURE_PERCENT HEPATITUS_B  ...  POLIIO EXPENDITURE_TOTAL  \\\n",
      "0       0.01            71.279624          65  ...       6              8.16   \n",
      "1       0.01            73.523582          62  ...      58              8.18   \n",
      "2       0.01            73.219243          64  ...      62              8.13   \n",
      "3       0.01            78.184215          67  ...      67              8.52   \n",
      "4       0.01             7.097109          68  ...      68              7.87   \n",
      "...      ...                  ...         ...  ...     ...               ...   \n",
      "2933    4.36             0.000000          68  ...      67              7.13   \n",
      "2934    4.06             0.000000           7  ...       7              6.52   \n",
      "2935    4.43             0.000000          73  ...      73              6.53   \n",
      "2936    1.72             0.000000          76  ...      76              6.16   \n",
      "2937    1.68             0.000000          79  ...      78               7.1   \n",
      "\n",
      "      DIPHTHERIA HIV_AIDS      GDP   POPULATION  THIN_1TO19_YR THIN_5TO9_YR  \\\n",
      "0             65      0.1  584.259  3.37365e+07           17.2         17.3   \n",
      "1             62      0.1  612.697       327582           17.5         17.5   \n",
      "2             64      0.1  631.745  3.17317e+07           17.7         17.7   \n",
      "3             67      0.1  669.959  3.69696e+06           17.9           18   \n",
      "4             68      0.1  63.5372   2.9786e+06           18.2         18.2   \n",
      "...          ...      ...      ...          ...            ...          ...   \n",
      "2933          65     33.6  454.367  1.27775e+07            9.4          9.4   \n",
      "2934          68     36.7  453.351  1.26339e+07            9.8          9.9   \n",
      "2935          71     39.8  57.3483       125525            1.2          1.3   \n",
      "2936          75     42.1  548.587  1.23662e+07            1.6          1.7   \n",
      "2937          78     43.5  547.359  1.22223e+07             11         11.2   \n",
      "\n",
      "     INC_COMPOSITION SCHOOLING  \n",
      "0              0.479      10.1  \n",
      "1              0.476        10  \n",
      "2               0.47       9.9  \n",
      "3              0.463       9.8  \n",
      "4              0.454       9.5  \n",
      "...              ...       ...  \n",
      "2933           0.407       9.2  \n",
      "2934           0.418       9.5  \n",
      "2935           0.427        10  \n",
      "2936           0.427       9.8  \n",
      "2937           0.434       9.8  \n",
      "\n",
      "[2938 rows x 23 columns]\n"
     ]
    }
   ],
   "source": [
    "# Convert Expectancy list to dataframe\n",
    "expect_df = pd.DataFrame(expect_results, columns=Expectancy_columns)\n",
    "print(expect_df)"
   ]
  },
  {
   "cell_type": "code",
   "execution_count": 34,
   "metadata": {},
   "outputs": [],
   "source": [
    "happy_results = []\n",
    "\n",
    "# Query contents of HAPPINESS_TABLE to list\n",
    "happy_results = session.query(\n",
    "    Happiness.ID,\n",
    "    Happiness.COUNTRY,\n",
    "    Happiness.REGION,\n",
    "    Happiness.HAPPINESS_SCORE,\n",
    "    Happiness.HAPPINESS_RANK,\n",
    "    Happiness.LOW_CONF,\n",
    "    Happiness.HIGH_CONF,    \n",
    "    Happiness.STANDARD_ERROR,\n",
    "    Happiness.ECONOMY,\n",
    "    Happiness.FAMILY,\n",
    "    Happiness.HEALTH,\n",
    "    Happiness.FREEDOM,\n",
    "    Happiness.TRUST,\n",
    "    Happiness.GENEROSITY,\n",
    "    Happiness.DYSTOPIA,\n",
    "    Happiness.YEAR\n",
    "    ).all()\n",
    "\n",
    "#for temp_result in happy_results:\n",
    "#    print(temp_result)"
   ]
  },
  {
   "cell_type": "code",
   "execution_count": 35,
   "metadata": {},
   "outputs": [
    {
     "name": "stdout",
     "output_type": "stream",
     "text": [
      "      ID                   COUNTRY          REGION  HAPPINESS_RANK  \\\n",
      "0      1               Switzerland  Western Europe             1.0   \n",
      "1      2                   Iceland  Western Europe             2.0   \n",
      "2      3                   Denmark  Western Europe             3.0   \n",
      "3      4                    Norway  Western Europe             4.0   \n",
      "4      5                    Canada   North America             5.0   \n",
      "..   ...                       ...             ...             ...   \n",
      "777  778                    Rwanda                           152.0   \n",
      "778  779                  Tanzania                           153.0   \n",
      "779  780               Afghanistan                           154.0   \n",
      "780  781  Central African Republic                           155.0   \n",
      "781  782               South Sudan                           156.0   \n",
      "\n",
      "     HAPPINESS_SCORE LOW_CONF HIGH_CONF STANDARD_ERROR  ECONOMY   FAMILY  \\\n",
      "0              7.587                           0.03411  1.39651  1.34951   \n",
      "1              7.561                           0.04884  1.30232  1.40223   \n",
      "2              7.527                           0.03328  1.32548  1.36058   \n",
      "3              7.522                            0.0388  1.45900  1.33095   \n",
      "4              7.427                           0.03553  1.32629  1.32261   \n",
      "..               ...      ...       ...            ...      ...      ...   \n",
      "777            3.334                                    0.35900  0.71100   \n",
      "778            3.231                                    0.47600  0.88500   \n",
      "779            3.203                                    0.35000  0.51700   \n",
      "780            3.083                                    0.02600  0.00000   \n",
      "781            2.853                                    0.30600  0.57500   \n",
      "\n",
      "      HEALTH  FREEDOM    TRUST  GENEROSITY DYSTOPIA  YEAR  \n",
      "0    0.94143  0.66557  0.41978     0.29678  2.51738  2015  \n",
      "1    0.94784  0.62877  0.14145     0.43630  2.70201  2015  \n",
      "2    0.87464  0.64938  0.48357     0.34139  2.49204  2015  \n",
      "3    0.88521  0.66973  0.36503     0.34699  2.46531  2015  \n",
      "4    0.90563  0.63297  0.32957     0.45811  2.45176  2015  \n",
      "..       ...      ...      ...         ...      ...   ...  \n",
      "777  0.61400  0.55500    0.411     0.21700           2019  \n",
      "778  0.49900  0.41700    0.147     0.27600           2019  \n",
      "779  0.36100  0.00000    0.025     0.15800           2019  \n",
      "780  0.10500  0.22500    0.035     0.23500           2019  \n",
      "781  0.29500  0.01000    0.091     0.20200           2019  \n",
      "\n",
      "[782 rows x 16 columns]\n"
     ]
    }
   ],
   "source": [
    "# Convert Happiness list to dataframe\n",
    "happy_df = pd.DataFrame(happy_results, columns=Happiness_columns)\n",
    "happy_df = happy_df.rename(columns={\"HAPPINESS_SCORE\":\"HAPPINESS_RANK\",\"HAPPINESS_RANK\":\"HAPPINESS_SCORE\"})\n",
    "\n",
    "print(happy_df)"
   ]
  },
  {
   "cell_type": "code",
   "execution_count": 36,
   "metadata": {},
   "outputs": [
    {
     "name": "stdout",
     "output_type": "stream",
     "text": [
      "       ID      COUNTRY  YEAR      STATUS  EXPECTANCY  MORTALITY  INFANT_DEATH  \\\n",
      "0       1  Afghanistan  2015  Developing        65.0      263.0          62.0   \n",
      "1      17      Albania  2015  Developing        77.8       74.0           0.0   \n",
      "2      33      Algeria  2015  Developing        75.6       19.0          21.0   \n",
      "3      49       Angola  2015  Developing        52.4      335.0          66.0   \n",
      "4      81    Argentina  2015  Developing        76.3      116.0           8.0   \n",
      "..    ...          ...   ...         ...         ...        ...           ...   \n",
      "130  2811      Uruguay  2015  Developing        77.0      116.0           0.0   \n",
      "131  2827   Uzbekistan  2015  Developing        69.4      184.0          15.0   \n",
      "132  2891        Yemen  2015  Developing        65.7      224.0          37.0   \n",
      "133  2907       Zambia  2015  Developing        61.8       33.0          27.0   \n",
      "134  2923     Zimbabwe  2015  Developing        67.0      336.0          22.0   \n",
      "\n",
      "    ALCOHOL  EXPENDITURE_PERCENT HEPATITUS_B  ...  HIGH_CONF STANDARD_ERROR  \\\n",
      "0      0.01            71.279624          65  ...                   0.03084   \n",
      "1       4.6           364.975229          99  ...                   0.05013   \n",
      "2                       0.000000          95  ...                   0.05099   \n",
      "3                       0.000000          64  ...                   0.04758   \n",
      "4                       0.000000          94  ...                   0.04612   \n",
      "..      ...                  ...         ...  ...        ...            ...   \n",
      "130                     0.000000          95  ...                   0.04539   \n",
      "131                     0.000000          99  ...                   0.04361   \n",
      "132                     0.000000          69  ...                   0.04367   \n",
      "133                     0.000000           9  ...                   0.06988   \n",
      "134                     0.000000          87  ...                   0.04290   \n",
      "\n",
      "     ECONOMY   FAMILY   HEALTH  FREEDOM    TRUST GENEROSITY DYSTOPIA  YEAR  \n",
      "0    0.31982  0.30285  0.30335  0.23414  0.09719    0.36510  1.95210  2015  \n",
      "1    0.87867  0.80434  0.81325  0.35733  0.06413    0.14272  1.89894  2015  \n",
      "2    0.93929  1.07772  0.61766  0.28579  0.17383    0.07822  2.43209  2015  \n",
      "3    0.75778  0.86040  0.16683  0.10384  0.07122    0.12344  1.94939  2015  \n",
      "4    1.05351  1.24823  0.78723  0.44974  0.08484    0.11451  2.83600  2015  \n",
      "..       ...      ...      ...      ...      ...        ...      ...   ...  \n",
      "130  1.06166  1.20890  0.81160  0.60362  0.24558    0.23240  2.32142  2015  \n",
      "131  0.63244  1.34043  0.59772  0.65821  0.30826    0.22837  2.23741  2015  \n",
      "132  0.54649  0.68093  0.40064  0.35571  0.07854    0.09131  1.92313  2015  \n",
      "133  0.47038  0.91612  0.29924  0.48827  0.12468    0.19591  2.63430  2015  \n",
      "134  0.27100  1.03276  0.33475  0.25861  0.08079    0.18987  2.44191  2015  \n",
      "\n",
      "[135 rows x 39 columns]\n"
     ]
    }
   ],
   "source": [
    "# INNER JOIN between Expectancy & Happiness data with filter on Expectancy data to only view 2015 year.\n",
    "\n",
    "happy_expect_join = []\n",
    "\n",
    "happy_expect_join_columns = Expectancy_columns + Happiness_columns\n",
    "\n",
    "happy_expect_join = session.query(\n",
    "    Expectancy.ID.label(\"E_ID\"),\n",
    "    Expectancy.COUNTRY,\n",
    "    Expectancy.YEAR,\n",
    "    Expectancy.STATUS,\n",
    "    Expectancy.EXPECTANCY,\n",
    "    Expectancy.MORTALITY,\n",
    "    Expectancy.INFANT_DEATH,\n",
    "    Expectancy.ALCOHOL,\n",
    "    Expectancy.EXPENDITURE_PERCENT,\n",
    "    Expectancy.HEPATITUS_B,\n",
    "    Expectancy.MEASLES,\n",
    "    Expectancy.BMI,\n",
    "    Expectancy.UNDER_FIVE_DEATH,\n",
    "    Expectancy.POLIIO,\n",
    "    Expectancy.EXPENDITURE_TOTAL,\n",
    "    Expectancy.DIPHTHERIA,\n",
    "    Expectancy.HIV_AIDS,\n",
    "    Expectancy.GDP,\n",
    "    Expectancy.POPULATION,\n",
    "    Expectancy.THIN_1TO19_YR,\n",
    "    Expectancy.THIN_5TO9_YR,\n",
    "    Expectancy.INC_COMPOSITION,\n",
    "    Expectancy.SCHOOLING,\n",
    "    Happiness.ID,\n",
    "    Happiness.COUNTRY,\n",
    "    Happiness.REGION,\n",
    "    Happiness.HAPPINESS_SCORE,\n",
    "    Happiness.HAPPINESS_RANK,\n",
    "    Happiness.LOW_CONF,\n",
    "    Happiness.HIGH_CONF,    \n",
    "    Happiness.STANDARD_ERROR,\n",
    "    Happiness.ECONOMY,\n",
    "    Happiness.FAMILY,\n",
    "    Happiness.HEALTH,\n",
    "    Happiness.FREEDOM,\n",
    "    Happiness.TRUST,\n",
    "    Happiness.GENEROSITY,\n",
    "    Happiness.DYSTOPIA,\n",
    "    Happiness.YEAR\n",
    ").join(Happiness, func.lower(Expectancy.COUNTRY) == func.lower(Happiness.COUNTRY)\n",
    ").filter(Expectancy.YEAR == '2015'\n",
    ").filter(Happiness.YEAR == '2015').all()\n",
    "\n",
    "happy_expect_join_df = pd.DataFrame(happy_expect_join, columns=happy_expect_join_columns)\n",
    "\n",
    "print(happy_expect_join_df)"
   ]
  },
  {
   "cell_type": "code",
   "execution_count": 37,
   "metadata": {},
   "outputs": [
    {
     "name": "stdout",
     "output_type": "stream",
     "text": [
      "ID\n",
      "COUNTRY\n",
      "YEAR\n",
      "STATUS\n",
      "EXPECTANCY\n",
      "MORTALITY\n",
      "INFANT_DEATH\n",
      "ALCOHOL\n",
      "EXPENDITURE_PERCENT\n",
      "HEPATITUS_B\n",
      "MEASLES\n",
      "BMI\n",
      "UNDER_FIVE_DEATH\n",
      "POLIIO\n",
      "EXPENDITURE_TOTAL\n",
      "DIPHTHERIA\n",
      "HIV_AIDS\n",
      "GDP\n",
      "POPULATION\n",
      "THIN_1TO19_YR\n",
      "THIN_5TO9_YR\n",
      "INC_COMPOSITION\n",
      "SCHOOLING\n",
      "ID\n",
      "COUNTRY\n",
      "REGION\n",
      "HAPPINESS_SCORE\n",
      "HAPPINESS_RANK\n",
      "LOW_CONF\n",
      "HIGH_CONF\n",
      "STANDARD_ERROR\n",
      "ECONOMY\n",
      "FAMILY\n",
      "HEALTH\n",
      "FREEDOM\n",
      "TRUST\n",
      "GENEROSITY\n",
      "DYSTOPIA\n",
      "YEAR\n"
     ]
    }
   ],
   "source": [
    "# Columns of the joined data between Expectancy & Happiness\n",
    "\n",
    "for col in happy_expect_join_df.columns: \n",
    "    print(col) "
   ]
  },
  {
   "cell_type": "code",
   "execution_count": 38,
   "metadata": {},
   "outputs": [
    {
     "name": "stdout",
     "output_type": "stream",
     "text": [
      "Column ID has 0 null values\n",
      "Column COUNTRY has 0 null values\n",
      "Column REGION has 0 null values\n",
      "Column HAPPINESS_RANK has 0 null values\n",
      "Column HAPPINESS_SCORE has 0 null values\n",
      "Column LOW_CONF has 0 null values\n",
      "Column HIGH_CONF has 0 null values\n",
      "Column STANDARD_ERROR has 0 null values\n",
      "Column ECONOMY has 0 null values\n",
      "Column FAMILY has 0 null values\n",
      "Column HEALTH has 0 null values\n",
      "Column FREEDOM has 0 null values\n",
      "Column TRUST has 0 null values\n",
      "Column GENEROSITY has 0 null values\n",
      "Column DYSTOPIA has 0 null values\n",
      "Column YEAR has 0 null values\n"
     ]
    }
   ],
   "source": [
    "# Check for NULL values in Happy Dataframe\n",
    "for column in happy_df.columns:\n",
    "    print(f'Column {column} has {happy_df[column].isnull().sum()} null values')"
   ]
  },
  {
   "cell_type": "code",
   "execution_count": 39,
   "metadata": {},
   "outputs": [
    {
     "name": "stdout",
     "output_type": "stream",
     "text": [
      "Column ID has 0 null values\n",
      "Column COUNTRY has 0 null values\n",
      "Column YEAR has 0 null values\n",
      "Column STATUS has 0 null values\n",
      "Column EXPECTANCY has 0 null values\n",
      "Column MORTALITY has 0 null values\n",
      "Column INFANT_DEATH has 0 null values\n",
      "Column ALCOHOL has 0 null values\n",
      "Column EXPENDITURE_PERCENT has 0 null values\n",
      "Column HEPATITUS_B has 0 null values\n",
      "Column MEASLES has 0 null values\n",
      "Column BMI has 0 null values\n",
      "Column UNDER_FIVE_DEATH has 0 null values\n",
      "Column POLIIO has 0 null values\n",
      "Column EXPENDITURE_TOTAL has 0 null values\n",
      "Column DIPHTHERIA has 0 null values\n",
      "Column HIV_AIDS has 0 null values\n",
      "Column GDP has 0 null values\n",
      "Column POPULATION has 0 null values\n",
      "Column THIN_1TO19_YR has 0 null values\n",
      "Column THIN_5TO9_YR has 0 null values\n",
      "Column INC_COMPOSITION has 0 null values\n",
      "Column SCHOOLING has 0 null values\n"
     ]
    }
   ],
   "source": [
    "# Check for NULL values in Expect Dataframe\n",
    "for column in expect_df.columns:\n",
    "    print(f'Column {column} has {expect_df[column].isnull().sum()} null values')"
   ]
  },
  {
   "cell_type": "code",
   "execution_count": 40,
   "metadata": {},
   "outputs": [],
   "source": [
    "# Close DB Session\n",
    "session.close()"
   ]
  },
  {
   "cell_type": "code",
   "execution_count": null,
   "metadata": {},
   "outputs": [],
   "source": []
  }
 ],
 "metadata": {
  "kernelspec": {
   "display_name": "Python 3",
   "language": "python",
   "name": "python3"
  },
  "language_info": {
   "codemirror_mode": {
    "name": "ipython",
    "version": 3
   },
   "file_extension": ".py",
   "mimetype": "text/x-python",
   "name": "python",
   "nbconvert_exporter": "python",
   "pygments_lexer": "ipython3",
   "version": "3.7.6"
  }
 },
 "nbformat": 4,
 "nbformat_minor": 4
}
