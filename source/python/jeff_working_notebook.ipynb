{
 "cells": [
  {
   "cell_type": "code",
   "execution_count": 27,
   "metadata": {},
   "outputs": [],
   "source": [
    "# Resources\n",
    "import numpy as np\n",
    "import sqlite3\n",
    "import pandas as pd\n",
    "\n",
    "# Python SQL toolkit and Object Relational Mapper\n",
    "import sqlalchemy \n",
    "from sqlalchemy.ext.automap import automap_base\n",
    "from sqlalchemy.orm import Session\n",
    "from sqlalchemy import create_engine, func\n",
    "from sqlalchemy import extract\n",
    "from sqlalchemy import select\n",
    "from sqlalchemy.orm import join\n",
    "from sqlalchemy.sql import func\n",
    "from sqlalchemy import or_\n",
    "from sqlalchemy import inspect"
   ]
  },
  {
   "cell_type": "code",
   "execution_count": 28,
   "metadata": {},
   "outputs": [],
   "source": [
    "##################################\n",
    "# Database Setup\n",
    "##################################\n",
    "\n",
    "# https://docs.sqlalchemy.org/en/14/core/engines.html#sqlite\n",
    "# Module 9 Challenge\n",
    "engine = create_engine(r'sqlite:///../../data/LIFE_EXPECTANCY_DB.db')\n",
    "\n",
    "# reflect an existing database into a new model\n",
    "Base = automap_base()\n",
    "# reflect the tables\n",
    "Base.prepare(engine, reflect=True)\n",
    "\n",
    "# Save references to each table\n",
    "Happiness = Base.classes.HAPPINESS_TABLE\n",
    "Expectancy = Base.classes.EXPECTANCY_TABLE"
   ]
  },
  {
   "cell_type": "code",
   "execution_count": 29,
   "metadata": {},
   "outputs": [
    {
     "data": {
      "text/plain": [
       "['EXPECTANCY_TABLE', 'HAPPINESS_TABLE']"
      ]
     },
     "execution_count": 29,
     "metadata": {},
     "output_type": "execute_result"
    }
   ],
   "source": [
    "# Tables in database\n",
    "Base.classes.keys()"
   ]
  },
  {
   "cell_type": "code",
   "execution_count": 30,
   "metadata": {},
   "outputs": [],
   "source": [
    "# Create our session (link) from Python to the DB\n",
    "session = Session(engine)"
   ]
  },
  {
   "cell_type": "code",
   "execution_count": 31,
   "metadata": {},
   "outputs": [],
   "source": [
    "inst = inspect(Expectancy)\n",
    "Expectancy_columns = [c_attr.key for c_attr in inst.mapper.column_attrs]"
   ]
  },
  {
   "cell_type": "code",
   "execution_count": 32,
   "metadata": {},
   "outputs": [
    {
     "name": "stdout",
     "output_type": "stream",
     "text": [
      "['ID', 'COUNTRY', 'YEAR', 'STATUS', 'EXPECTANCY', 'MORTALITY', 'INFANT_DEATH', 'ALCOHOL', 'EXPENDITURE_PERCENT', 'HEPATITUS_B', 'MEASLES', 'BMI', 'UNDER_FIVE_DEATH', 'POLIIO', 'EXPENDITURE_TOTAL', 'DIPHTHERIA', 'HIV_AIDS', 'GDP', 'POPULATION', 'THIN_1TO19_YR', 'THIN_5TO9_YR', 'INC_COMPOSITION', 'SCHOOLING']\n"
     ]
    }
   ],
   "source": [
    "# Columns of EXPECTANCY_TABLE\n",
    "print(Expectancy_columns)"
   ]
  },
  {
   "cell_type": "code",
   "execution_count": 33,
   "metadata": {},
   "outputs": [],
   "source": [
    "inst = inspect(Happiness)\n",
    "Happiness_columns = [c_attr.key for c_attr in inst.mapper.column_attrs]"
   ]
  },
  {
   "cell_type": "code",
   "execution_count": 34,
   "metadata": {},
   "outputs": [
    {
     "name": "stdout",
     "output_type": "stream",
     "text": [
      "['ID', 'COUNTRY', 'REGION', 'HAPPINESS_RANK', 'HAPPINESS_SCORE', 'STANDARD_ERROR', 'ECONOMY', 'FAMILY', 'HEALTH', 'FREEDOM', 'TRUST', 'GENEROSITY', 'DYSTOPIA']\n"
     ]
    }
   ],
   "source": [
    "# Columns of HAPPINESS_TABLE\n",
    "print(Happiness_columns)"
   ]
  },
  {
   "cell_type": "code",
   "execution_count": 35,
   "metadata": {},
   "outputs": [],
   "source": [
    "expect_results = []\n",
    "\n",
    "# Query contents of EXPECTANCY_TABLE to list\n",
    "expect_results = session.query(\n",
    "    Expectancy.ID,\n",
    "    Expectancy.COUNTRY,\n",
    "    Expectancy.YEAR,\n",
    "    Expectancy.STATUS,\n",
    "    Expectancy.EXPECTANCY,\n",
    "    Expectancy.MORTALITY,\n",
    "    Expectancy.INFANT_DEATH,\n",
    "    Expectancy.ALCOHOL,\n",
    "    Expectancy.EXPENDITURE_PERCENT,\n",
    "    Expectancy.HEPATITUS_B,\n",
    "    Expectancy.MEASLES,\n",
    "    Expectancy.BMI,\n",
    "    Expectancy.UNDER_FIVE_DEATH,\n",
    "    Expectancy.POLIIO,\n",
    "    Expectancy.EXPENDITURE_TOTAL,\n",
    "    Expectancy.DIPHTHERIA,\n",
    "    Expectancy.HIV_AIDS,\n",
    "    Expectancy.GDP,\n",
    "    Expectancy.POPULATION,\n",
    "    Expectancy.THIN_1TO19_YR,\n",
    "    Expectancy.THIN_5TO9_YR,\n",
    "    Expectancy.INC_COMPOSITION,\n",
    "    Expectancy.SCHOOLING\n",
    "    ).all()\n",
    "\n",
    "#for temp_result in expect_results:\n",
    "#    print(temp_result)"
   ]
  },
  {
   "cell_type": "code",
   "execution_count": 36,
   "metadata": {},
   "outputs": [
    {
     "name": "stdout",
     "output_type": "stream",
     "text": [
      "        ID      COUNTRY  YEAR      STATUS EXPECTANCY MORTALITY  INFANT_DEATH  \\\n",
      "0        1  Afghanistan  2015  Developing         65       263          62.0   \n",
      "1        2  Afghanistan  2014  Developing       59.9       271          64.0   \n",
      "2        3  Afghanistan  2013  Developing       59.9       268          66.0   \n",
      "3        4  Afghanistan  2012  Developing       59.5       272          69.0   \n",
      "4        5  Afghanistan  2011  Developing       59.2       275          71.0   \n",
      "...    ...          ...   ...         ...        ...       ...           ...   \n",
      "2933  2934     Zimbabwe  2004  Developing       44.3       723          27.0   \n",
      "2934  2935     Zimbabwe  2003  Developing       44.5       715          26.0   \n",
      "2935  2936     Zimbabwe  2002  Developing       44.8        73          25.0   \n",
      "2936  2937     Zimbabwe  2001  Developing       45.3       686          25.0   \n",
      "2937  2938     Zimbabwe  2000  Developing         46       665          24.0   \n",
      "\n",
      "     ALCOHOL  EXPENDITURE_PERCENT HEPATITUS_B  ...  POLIIO EXPENDITURE_TOTAL  \\\n",
      "0       0.01            71.279624          65  ...       6              8.16   \n",
      "1       0.01            73.523582          62  ...      58              8.18   \n",
      "2       0.01            73.219243          64  ...      62              8.13   \n",
      "3       0.01            78.184215          67  ...      67              8.52   \n",
      "4       0.01             7.097109          68  ...      68              7.87   \n",
      "...      ...                  ...         ...  ...     ...               ...   \n",
      "2933    4.36             0.000000          68  ...      67              7.13   \n",
      "2934    4.06             0.000000           7  ...       7              6.52   \n",
      "2935    4.43             0.000000          73  ...      73              6.53   \n",
      "2936    1.72             0.000000          76  ...      76              6.16   \n",
      "2937    1.68             0.000000          79  ...      78               7.1   \n",
      "\n",
      "      DIPHTHERIA HIV_AIDS      GDP   POPULATION  THIN_1TO19_YR THIN_5TO9_YR  \\\n",
      "0             65      0.1  584.259  3.37365e+07           17.2         17.3   \n",
      "1             62      0.1  612.697       327582           17.5         17.5   \n",
      "2             64      0.1  631.745  3.17317e+07           17.7         17.7   \n",
      "3             67      0.1  669.959  3.69696e+06           17.9           18   \n",
      "4             68      0.1  63.5372   2.9786e+06           18.2         18.2   \n",
      "...          ...      ...      ...          ...            ...          ...   \n",
      "2933          65     33.6  454.367  1.27775e+07            9.4          9.4   \n",
      "2934          68     36.7  453.351  1.26339e+07            9.8          9.9   \n",
      "2935          71     39.8  57.3483       125525            1.2          1.3   \n",
      "2936          75     42.1  548.587  1.23662e+07            1.6          1.7   \n",
      "2937          78     43.5  547.359  1.22223e+07             11         11.2   \n",
      "\n",
      "     INC_COMPOSITION SCHOOLING  \n",
      "0              0.479      10.1  \n",
      "1              0.476        10  \n",
      "2               0.47       9.9  \n",
      "3              0.463       9.8  \n",
      "4              0.454       9.5  \n",
      "...              ...       ...  \n",
      "2933           0.407       9.2  \n",
      "2934           0.418       9.5  \n",
      "2935           0.427        10  \n",
      "2936           0.427       9.8  \n",
      "2937           0.434       9.8  \n",
      "\n",
      "[2938 rows x 23 columns]\n"
     ]
    }
   ],
   "source": [
    "# Convert Expectancy list to dataframe\n",
    "expect_df = pd.DataFrame(expect_results, columns=Expectancy_columns)\n",
    "print(expect_df)"
   ]
  },
  {
   "cell_type": "code",
   "execution_count": 37,
   "metadata": {},
   "outputs": [],
   "source": [
    "happy_results = []\n",
    "\n",
    "# Query contents of HAPPINESS_TABLE to list\n",
    "happy_results = session.query(\n",
    "    Happiness.ID,\n",
    "    Happiness.COUNTRY,\n",
    "    Happiness.REGION,\n",
    "    Happiness.HAPPINESS_RANK,\n",
    "    Happiness.HAPPINESS_SCORE,\n",
    "    Happiness.STANDARD_ERROR,\n",
    "    Happiness.ECONOMY,\n",
    "    Happiness.FAMILY,\n",
    "    Happiness.HEALTH,\n",
    "    Happiness.FREEDOM,\n",
    "    Happiness.TRUST,\n",
    "    Happiness.GENEROSITY,\n",
    "    Happiness.DYSTOPIA\n",
    "    ).all()\n",
    "\n",
    "#for temp_result in happy_results:\n",
    "#    print(temp_result)"
   ]
  },
  {
   "cell_type": "code",
   "execution_count": 38,
   "metadata": {},
   "outputs": [
    {
     "name": "stdout",
     "output_type": "stream",
     "text": [
      "      ID      COUNTRY                           REGION  HAPPINESS_RANK  \\\n",
      "0      1  Switzerland                   Western Europe               1   \n",
      "1      2      Iceland                   Western Europe               2   \n",
      "2      3      Denmark                   Western Europe               3   \n",
      "3      4       Norway                   Western Europe               4   \n",
      "4      5       Canada                    North America               5   \n",
      "..   ...          ...                              ...             ...   \n",
      "153  154       Rwanda               Sub-Saharan Africa             154   \n",
      "154  155        Benin               Sub-Saharan Africa             155   \n",
      "155  156        Syria  Middle East and Northern Africa             156   \n",
      "156  157      Burundi               Sub-Saharan Africa             157   \n",
      "157  158         Togo               Sub-Saharan Africa             158   \n",
      "\n",
      "     HAPPINESS_SCORE  STANDARD_ERROR  ECONOMY   FAMILY   HEALTH  FREEDOM  \\\n",
      "0              7.587         0.03411  1.39651  1.34951  0.94143  0.66557   \n",
      "1              7.561         0.04884  1.30232  1.40223  0.94784  0.62877   \n",
      "2              7.527         0.03328  1.32548  1.36058  0.87464  0.64938   \n",
      "3              7.522         0.03880  1.45900  1.33095  0.88521  0.66973   \n",
      "4              7.427         0.03553  1.32629  1.32261  0.90563  0.63297   \n",
      "..               ...             ...      ...      ...      ...      ...   \n",
      "153            3.465         0.03464  0.22208  0.77370  0.42864  0.59201   \n",
      "154            3.340         0.03656  0.28665  0.35386  0.31910  0.48450   \n",
      "155            3.006         0.05015  0.66320  0.47489  0.72193  0.15684   \n",
      "156            2.905         0.08658  0.01530  0.41587  0.22396  0.11850   \n",
      "157            2.839         0.06727  0.20868  0.13995  0.28443  0.36453   \n",
      "\n",
      "       TRUST  GENEROSITY  DYSTOPIA  \n",
      "0    0.41978     0.29678   2.51738  \n",
      "1    0.14145     0.43630   2.70201  \n",
      "2    0.48357     0.34139   2.49204  \n",
      "3    0.36503     0.34699   2.46531  \n",
      "4    0.32957     0.45811   2.45176  \n",
      "..       ...         ...       ...  \n",
      "153  0.55191     0.22628   0.67042  \n",
      "154  0.08010     0.18260   1.63328  \n",
      "155  0.18906     0.47179   0.32858  \n",
      "156  0.10062     0.19727   1.83302  \n",
      "157  0.10731     0.16681   1.56726  \n",
      "\n",
      "[158 rows x 13 columns]\n"
     ]
    }
   ],
   "source": [
    "# Convert Happiness list to dataframe\n",
    "happy_df = pd.DataFrame(happy_results, columns=Happiness_columns)\n",
    "print(happy_df)"
   ]
  },
  {
   "cell_type": "code",
   "execution_count": 39,
   "metadata": {},
   "outputs": [
    {
     "name": "stdout",
     "output_type": "stream",
     "text": [
      "       ID      COUNTRY  YEAR      STATUS  EXPECTANCY  MORTALITY  INFANT_DEATH  \\\n",
      "0    2522  Switzerland  2015   Developed        83.4       49.0           0.0   \n",
      "1    1171      Iceland  2015   Developed        82.7       49.0           0.0   \n",
      "2     738      Denmark  2015   Developed        86.0       71.0           0.0   \n",
      "3    1911       Norway  2015   Developed        81.8       59.0           0.0   \n",
      "4     497       Canada  2015  Developing        82.2       64.0           2.0   \n",
      "..    ...          ...   ...         ...         ...        ...           ...   \n",
      "130     1  Afghanistan  2015  Developing        65.0      263.0          62.0   \n",
      "131  2152       Rwanda  2015  Developing        66.1      227.0          11.0   \n",
      "132   273        Benin  2015  Developing        60.0      249.0          25.0   \n",
      "133   417      Burundi  2015  Developing        59.6      288.0          21.0   \n",
      "134  2618         Togo  2015  Developing        59.9      287.0          13.0   \n",
      "\n",
      "    ALCOHOL  EXPENDITURE_PERCENT HEPATITUS_B  ...  HAPPINESS_RANK  \\\n",
      "0                       0.000000              ...               1   \n",
      "1                       0.000000              ...               2   \n",
      "2                       0.000000              ...               3   \n",
      "3      5.97             0.000000              ...               4   \n",
      "4                       0.000000          55  ...               5   \n",
      "..      ...                  ...         ...  ...             ...   \n",
      "130    0.01            71.279624          65  ...             153   \n",
      "131                     0.000000          98  ...             154   \n",
      "132                     0.000000          82  ...             155   \n",
      "133                     0.000000          94  ...             157   \n",
      "134                     0.000000          88  ...             158   \n",
      "\n",
      "    HAPPINESS_SCORE  STANDARD_ERROR  ECONOMY   FAMILY   HEALTH  FREEDOM  \\\n",
      "0             7.587         0.03411  1.39651  1.34951  0.94143  0.66557   \n",
      "1             7.561         0.04884  1.30232  1.40223  0.94784  0.62877   \n",
      "2             7.527         0.03328  1.32548  1.36058  0.87464  0.64938   \n",
      "3             7.522         0.03880  1.45900  1.33095  0.88521  0.66973   \n",
      "4             7.427         0.03553  1.32629  1.32261  0.90563  0.63297   \n",
      "..              ...             ...      ...      ...      ...      ...   \n",
      "130           3.575         0.03084  0.31982  0.30285  0.30335  0.23414   \n",
      "131           3.465         0.03464  0.22208  0.77370  0.42864  0.59201   \n",
      "132           3.340         0.03656  0.28665  0.35386  0.31910  0.48450   \n",
      "133           2.905         0.08658  0.01530  0.41587  0.22396  0.11850   \n",
      "134           2.839         0.06727  0.20868  0.13995  0.28443  0.36453   \n",
      "\n",
      "       TRUST GENEROSITY DYSTOPIA  \n",
      "0    0.41978    0.29678  2.51738  \n",
      "1    0.14145    0.43630  2.70201  \n",
      "2    0.48357    0.34139  2.49204  \n",
      "3    0.36503    0.34699  2.46531  \n",
      "4    0.32957    0.45811  2.45176  \n",
      "..       ...        ...      ...  \n",
      "130  0.09719    0.36510  1.95210  \n",
      "131  0.55191    0.22628  0.67042  \n",
      "132  0.08010    0.18260  1.63328  \n",
      "133  0.10062    0.19727  1.83302  \n",
      "134  0.10731    0.16681  1.56726  \n",
      "\n",
      "[135 rows x 36 columns]\n"
     ]
    }
   ],
   "source": [
    "# INNER JOIN between Expectancy & Happiness data with filter on Expectancy data to only view 2015 year.\n",
    "\n",
    "happy_expect_join = []\n",
    "\n",
    "happy_expect_join_columns = Expectancy_columns + Happiness_columns\n",
    "\n",
    "happy_expect_join = session.query(\n",
    "    Expectancy.ID.label(\"E_ID\"),\n",
    "    Expectancy.COUNTRY,\n",
    "    Expectancy.YEAR,\n",
    "    Expectancy.STATUS,\n",
    "    Expectancy.EXPECTANCY,\n",
    "    Expectancy.MORTALITY,\n",
    "    Expectancy.INFANT_DEATH,\n",
    "    Expectancy.ALCOHOL,\n",
    "    Expectancy.EXPENDITURE_PERCENT,\n",
    "    Expectancy.HEPATITUS_B,\n",
    "    Expectancy.MEASLES,\n",
    "    Expectancy.BMI,\n",
    "    Expectancy.UNDER_FIVE_DEATH,\n",
    "    Expectancy.POLIIO,\n",
    "    Expectancy.EXPENDITURE_TOTAL,\n",
    "    Expectancy.DIPHTHERIA,\n",
    "    Expectancy.HIV_AIDS,\n",
    "    Expectancy.GDP,\n",
    "    Expectancy.POPULATION,\n",
    "    Expectancy.THIN_1TO19_YR,\n",
    "    Expectancy.THIN_5TO9_YR,\n",
    "    Expectancy.INC_COMPOSITION,\n",
    "    Expectancy.SCHOOLING,\n",
    "    Happiness.ID.label('H_ID'),\n",
    "    Happiness.COUNTRY,\n",
    "    Happiness.REGION,\n",
    "    Happiness.HAPPINESS_RANK,\n",
    "    Happiness.HAPPINESS_SCORE,\n",
    "    Happiness.STANDARD_ERROR,\n",
    "    Happiness.ECONOMY,\n",
    "    Happiness.FAMILY,\n",
    "    Happiness.HEALTH,\n",
    "    Happiness.FREEDOM,\n",
    "    Happiness.TRUST,\n",
    "    Happiness.GENEROSITY,\n",
    "    Happiness.DYSTOPIA\n",
    ").join(Happiness, func.lower(Expectancy.COUNTRY) == func.lower(Happiness.COUNTRY)\n",
    ").filter(Expectancy.YEAR == '2015').all()\n",
    "\n",
    "happy_expect_join_df = pd.DataFrame(happy_expect_join, columns=happy_expect_join_columns)\n",
    "\n",
    "print(happy_expect_join_df)"
   ]
  },
  {
   "cell_type": "code",
   "execution_count": 40,
   "metadata": {},
   "outputs": [
    {
     "name": "stdout",
     "output_type": "stream",
     "text": [
      "ID\n",
      "COUNTRY\n",
      "YEAR\n",
      "STATUS\n",
      "EXPECTANCY\n",
      "MORTALITY\n",
      "INFANT_DEATH\n",
      "ALCOHOL\n",
      "EXPENDITURE_PERCENT\n",
      "HEPATITUS_B\n",
      "MEASLES\n",
      "BMI\n",
      "UNDER_FIVE_DEATH\n",
      "POLIIO\n",
      "EXPENDITURE_TOTAL\n",
      "DIPHTHERIA\n",
      "HIV_AIDS\n",
      "GDP\n",
      "POPULATION\n",
      "THIN_1TO19_YR\n",
      "THIN_5TO9_YR\n",
      "INC_COMPOSITION\n",
      "SCHOOLING\n",
      "ID\n",
      "COUNTRY\n",
      "REGION\n",
      "HAPPINESS_RANK\n",
      "HAPPINESS_SCORE\n",
      "STANDARD_ERROR\n",
      "ECONOMY\n",
      "FAMILY\n",
      "HEALTH\n",
      "FREEDOM\n",
      "TRUST\n",
      "GENEROSITY\n",
      "DYSTOPIA\n"
     ]
    }
   ],
   "source": [
    "# Columns of the joined data between Expectancy & Happiness\n",
    "\n",
    "for col in happy_expect_join_df.columns: \n",
    "    print(col) "
   ]
  },
  {
   "cell_type": "code",
   "execution_count": 41,
   "metadata": {},
   "outputs": [
    {
     "name": "stdout",
     "output_type": "stream",
     "text": [
      "Column ID has 0 null values\n",
      "Column COUNTRY has 0 null values\n",
      "Column REGION has 0 null values\n",
      "Column HAPPINESS_RANK has 0 null values\n",
      "Column HAPPINESS_SCORE has 0 null values\n",
      "Column STANDARD_ERROR has 0 null values\n",
      "Column ECONOMY has 0 null values\n",
      "Column FAMILY has 0 null values\n",
      "Column HEALTH has 0 null values\n",
      "Column FREEDOM has 0 null values\n",
      "Column TRUST has 0 null values\n",
      "Column GENEROSITY has 0 null values\n",
      "Column DYSTOPIA has 0 null values\n"
     ]
    }
   ],
   "source": [
    "# Check for NULL values in Happy Dataframe\n",
    "for column in happy_df.columns:\n",
    "    print(f'Column {column} has {happy_df[column].isnull().sum()} null values')"
   ]
  },
  {
   "cell_type": "code",
   "execution_count": 42,
   "metadata": {},
   "outputs": [
    {
     "name": "stdout",
     "output_type": "stream",
     "text": [
      "Column ID has 0 null values\n",
      "Column COUNTRY has 0 null values\n",
      "Column YEAR has 0 null values\n",
      "Column STATUS has 0 null values\n",
      "Column EXPECTANCY has 0 null values\n",
      "Column MORTALITY has 0 null values\n",
      "Column INFANT_DEATH has 0 null values\n",
      "Column ALCOHOL has 0 null values\n",
      "Column EXPENDITURE_PERCENT has 0 null values\n",
      "Column HEPATITUS_B has 0 null values\n",
      "Column MEASLES has 0 null values\n",
      "Column BMI has 0 null values\n",
      "Column UNDER_FIVE_DEATH has 0 null values\n",
      "Column POLIIO has 0 null values\n",
      "Column EXPENDITURE_TOTAL has 0 null values\n",
      "Column DIPHTHERIA has 0 null values\n",
      "Column HIV_AIDS has 0 null values\n",
      "Column GDP has 0 null values\n",
      "Column POPULATION has 0 null values\n",
      "Column THIN_1TO19_YR has 0 null values\n",
      "Column THIN_5TO9_YR has 0 null values\n",
      "Column INC_COMPOSITION has 0 null values\n",
      "Column SCHOOLING has 0 null values\n"
     ]
    }
   ],
   "source": [
    "# Check for NULL values in Expect Dataframe\n",
    "for column in expect_df.columns:\n",
    "    print(f'Column {column} has {expect_df[column].isnull().sum()} null values')"
   ]
  },
  {
   "cell_type": "code",
   "execution_count": 24,
   "metadata": {},
   "outputs": [],
   "source": [
    "# Close DB Session\n",
    "session.close()"
   ]
  },
  {
   "cell_type": "code",
   "execution_count": null,
   "metadata": {},
   "outputs": [],
   "source": []
  }
 ],
 "metadata": {
  "kernelspec": {
   "display_name": "Python 3",
   "language": "python",
   "name": "python3"
  },
  "language_info": {
   "codemirror_mode": {
    "name": "ipython",
    "version": 3
   },
   "file_extension": ".py",
   "mimetype": "text/x-python",
   "name": "python",
   "nbconvert_exporter": "python",
   "pygments_lexer": "ipython3",
   "version": "3.7.6"
  }
 },
 "nbformat": 4,
 "nbformat_minor": 4
}
